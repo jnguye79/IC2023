{
 "cells": [
  {
   "cell_type": "code",
   "execution_count": null,
   "metadata": {},
   "outputs": [],
   "source": []
  }
 ],
 "metadata": {
  "kernelspec": {
   "display_name": "base",
   "language": "python",
   "name": "python3"
  },
  "language_info": {
   "name": "python",
   "version": "3.9.13"
  },
  "orig_nbformat": 4,
  "vscode": {
   "interpreter": {
    "hash": "ae29015c19ad5d96e8e140c89c17f3c1f4ea855384d03e71afc1da7d38e8caf2"
   }
  }
 },
 "nbformat": 4,
 "nbformat_minor": 2
}
